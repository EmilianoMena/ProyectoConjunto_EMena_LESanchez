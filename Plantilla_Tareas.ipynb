{
 "cells": [
  {
   "cell_type": "markdown",
   "metadata": {},
   "source": [
    "<img style=\"float: left; margin: 30px 15px 15px 15px;\" src=\"https://pngimage.net/wp-content/uploads/2018/06/logo-iteso-png-5.png\" width=\"300\" height=\"500\" /> \n",
    "    \n",
    "    \n",
    "### <font color='navy'> Simulación de procesos financieros. \n",
    "\n",
    "**Nombres:** Emiliano Mena González y Luis Eduardo Sánchez Soto.\n",
    "\n",
    "**Fecha:** 07 de febrero del 2023.\n",
    "\n",
    "**Expediente** : 728407 y 734350.\n",
    "**Profesor:** Oscar David Jaramillo Zuluaga.\n",
    "    \n",
    "**Link Github**: https://github.com/EmilianoMena/ProyectoConjunto_EMena_LESanchez\n",
    "\n",
    "# Tarea 2: Clase 4"
   ]
  },
  {
   "cell_type": "markdown",
   "metadata": {},
   "source": [
    "### Ejercicio 1: \n",
    "1. Imagine una rutina contable utilizada en una librería. Funciona en una lista con sublistas, que se ven así:\n",
    "\n",
    "| Order Number | Book Title and Author              | Quantity | Price per Item |\n",
    "|--------------|------------------------------------|----------|----------------|\n",
    "| 34587        | Learning pyhton, Mark Lutz         | 4        | 40.95          |\n",
    "| 98762        | Programming Python, Mark Lutz      | 5        | 56.80          |\n",
    "| 77226        | Head First Python, Paul Barry      | 3        | 32.95          |\n",
    "| 88112        | Einfuhrung in Python3, Bernd Klein | 3        | 24.99          |\n",
    "\n",
    "Escriba un programa en Python, que devuelve una lista con tuplas de tamaño 2. Cada tupla consiste en el número de pedido y el costo total del pedido. El producto debe aumentarse en 10€ si el valor de la orden es inferior a 100,00 €. \n",
    "Escribe un programa Python usando unicamente las funciones **lambda y map**.\n",
    "\n",
    "`orders = [ [\"34587\", \"Learning Python, Mark Lutz\", 4, 40.95], \n",
    "           [\"98762\", \"Programming Python, Mark Lutz\", 5, 56.80], \n",
    "           [\"77226\", \"Head First Python, Paul Barry\", 3,32.95],\n",
    "           [\"88112\", \"Einführung in Python3, Bernd Klein\", 3, 24.99]]`"
   ]
  },
  {
   "cell_type": "markdown",
   "metadata": {},
   "source": [
    "Código de solución estudiante 1"
   ]
  },
  {
   "cell_type": "code",
   "execution_count": 1,
   "metadata": {},
   "outputs": [
    {
     "data": {
      "text/plain": [
       "[('34587', 163.8),\n",
       " ('98762', 284.0),\n",
       " ('77226', 108.85000000000001),\n",
       " ('88112', 84.97)]"
      ]
     },
     "execution_count": 1,
     "metadata": {},
     "output_type": "execute_result"
    }
   ],
   "source": [
    "# Codigo de solución estudiante 1\n",
    "# Datos del problema 1\n",
    "orders1 = [ [\"34587\", \"Learning Python, Mark Lutz\", 4, 40.95], \n",
    "           [\"98762\", \"Programming Python, Mark Lutz\", 5, 56.80], \n",
    "           [\"77226\", \"Head First Python, Paul Barry\", 3,32.95],\n",
    "           [\"88112\", \"Einführung in Python3, Bernd Klein\", 3, 24.99]]\n",
    "\n",
    "# Solución\n",
    "sol1 = list(map(lambda x:(x[0], x[-1] * x[-2] if (x[-1] * x[-2])>100 else x[-1] * x[-2] + 10),orders1))\n",
    "sol1"
   ]
  },
  {
   "cell_type": "markdown",
   "metadata": {},
   "source": [
    "Código de solución estudiante 2"
   ]
  },
  {
   "cell_type": "code",
   "execution_count": 13,
   "metadata": {},
   "outputs": [
    {
     "data": {
      "text/plain": [
       "[('34587', 163.8),\n",
       " ('98762', 284.0),\n",
       " ('77226', 108.85000000000001),\n",
       " ('88112', 84.97)]"
      ]
     },
     "execution_count": 13,
     "metadata": {},
     "output_type": "execute_result"
    }
   ],
   "source": [
    "# Código de solución estudiante 2\n",
    "orders = [ [\"34587\", \"Learning Python, Mark Lutz\", 4, 40.95], \n",
    "           [\"98762\", \"Programming Python, Mark Lutz\", 5, 56.80], \n",
    "           [\"77226\", \"Head First Python, Paul Barry\", 3,32.95],\n",
    "           [\"88112\", \"Einführung in Python3, Bernd Klein\", 3, 24.99]]\n",
    "ans1 = list(map(lambda x:(x[0],x[2]*x[3] if x[2]*x[3]>100 else x[2]*x[3]+10), orders))\n",
    "ans1"
   ]
  },
  {
   "cell_type": "markdown",
   "metadata": {},
   "source": [
    "### Ejercicio 2 \n",
    "2. La misma librería, pero esta vez trabajamos en una lista diferente. Las sublistas de nuestras listas se ven así: \n",
    "[número de orden, (número de artículo, cantidad, precio por unidad), ... (número de artículo, cantidad, precio por unidad)] \n",
    "\n",
    "`orders = [[1, (\"5464\", 4, 9.99), (\"8274\",18,12.99), (\"9744\", 9, 44.95)], \n",
    "\t       [2, (\"5464\", 9, 9.99), (\"9744\", 9, 44.95)],\n",
    "\t       [3, (\"5464\", 9, 9.99), (\"88112\", 11, 24.99)],\n",
    "           [4, (\"8732\", 7, 11.99), (\"7733\",11,18.99), (\"88112\", 5, 39.95)] ]`\n",
    "\n",
    "Escriba un programa que devuelva una lista de dos tuplas que tengan la información de (número de pedido, cantidad total de pedido). Utilice la función `Reduce`. Recuerde el precio del pedido del producto debe aumentarse en 10€ si el valor de la orden es inferior a 100,00 €."
   ]
  },
  {
   "cell_type": "markdown",
   "metadata": {},
   "source": [
    "Código de solución estudiante 1"
   ]
  },
  {
   "cell_type": "code",
   "execution_count": 3,
   "metadata": {},
   "outputs": [
    {
     "data": {
      "text/plain": [
       "[(1, 4725810.37476),\n",
       " (2, 40418.5905),\n",
       " (3, 27464.259899999997),\n",
       " (4, 3919302.280575)]"
      ]
     },
     "execution_count": 3,
     "metadata": {},
     "output_type": "execute_result"
    }
   ],
   "source": [
    "# Código de solución estudiante 1\n",
    "from functools import reduce\n",
    "# Datos del problema 2\n",
    "orders2 = [[1, (\"5464\", 4, 9.99), (\"8274\",18,12.99), (\"9744\", 9, 44.95)], \n",
    "          [2, (\"5464\", 9, 9.99), (\"9744\", 9, 44.95)],\n",
    "          [3, (\"5464\", 9, 9.99), (\"88112\", 11, 24.99)],\n",
    "          [4, (\"8732\", 7, 11.99), (\"7733\",11,18.99), (\"88112\", 5, 39.95)] ]\n",
    "\n",
    "# Solución\n",
    "valor = lambda x:  x[-1]*x[-2] if x[-1]*x[-2] > 100 else x[-1]*x[-2]+10\n",
    "mult = lambda x,y: x*y\n",
    "r = [[valor(orders2[i][j]) for j in range(1,len(orders2[i]))] for i in range(len(orders2))]\n",
    "res = [(orders2[i][0],reduce(mult,r[i]))for i in range(len(orders2))]\n",
    "res"
   ]
  },
  {
   "cell_type": "markdown",
   "metadata": {},
   "source": [
    "Código de solución estudiante 2"
   ]
  },
  {
   "cell_type": "code",
   "execution_count": 14,
   "metadata": {},
   "outputs": [
    {
     "data": {
      "text/plain": [
       "[(1, 4725810.37476),\n",
       " (2, 40418.5905),\n",
       " (3, 27464.259899999997),\n",
       " (4, 3919302.280575)]"
      ]
     },
     "execution_count": 14,
     "metadata": {},
     "output_type": "execute_result"
    }
   ],
   "source": [
    "# Código de solución estudiante 2\n",
    "orders_2 = [[1, (\"5464\", 4, 9.99), (\"8274\",18,12.99), (\"9744\", 9, 44.95)], \n",
    "          [2, (\"5464\", 9, 9.99), (\"9744\", 9, 44.95)],\n",
    "          [3, (\"5464\", 9, 9.99), (\"88112\", 11, 24.99)],\n",
    "          [4, (\"8732\", 7, 11.99), (\"7733\",11,18.99), (\"88112\", 5, 39.95)] ]\n",
    "\n",
    "tot = lambda o:  o[-1]*o[-2] if (o[-1]*o[-2] > 101) else (o[-1]*o[-2])+10\n",
    "prod = lambda a,b: a*b\n",
    "r = [[tot(orders_2[i][j]) for j in range(1,len(orders_2[i]))] for i in range(len(orders_2))]\n",
    "res = [(orders_2[i][0],reduce(prod,r[i]))for i in range(len(orders_2))]\n",
    "res"
   ]
  },
  {
   "cell_type": "markdown",
   "metadata": {},
   "source": [
    "### Ejercicio 3 \n",
    "3. Resolver los anteriores ejercicios usando pandas (DataFrame)"
   ]
  },
  {
   "cell_type": "markdown",
   "metadata": {},
   "source": [
    "Código de solución estudiante 1"
   ]
  },
  {
   "cell_type": "code",
   "execution_count": 5,
   "metadata": {},
   "outputs": [
    {
     "data": {
      "text/html": [
       "<div>\n",
       "<style scoped>\n",
       "    .dataframe tbody tr th:only-of-type {\n",
       "        vertical-align: middle;\n",
       "    }\n",
       "\n",
       "    .dataframe tbody tr th {\n",
       "        vertical-align: top;\n",
       "    }\n",
       "\n",
       "    .dataframe thead th {\n",
       "        text-align: right;\n",
       "    }\n",
       "</style>\n",
       "<table border=\"1\" class=\"dataframe\">\n",
       "  <thead>\n",
       "    <tr style=\"text-align: right;\">\n",
       "      <th></th>\n",
       "      <th>Order Number</th>\n",
       "      <th>Total</th>\n",
       "    </tr>\n",
       "  </thead>\n",
       "  <tbody>\n",
       "    <tr>\n",
       "      <th>0</th>\n",
       "      <td>34587</td>\n",
       "      <td>163.80</td>\n",
       "    </tr>\n",
       "    <tr>\n",
       "      <th>1</th>\n",
       "      <td>98762</td>\n",
       "      <td>284.00</td>\n",
       "    </tr>\n",
       "    <tr>\n",
       "      <th>2</th>\n",
       "      <td>77226</td>\n",
       "      <td>108.85</td>\n",
       "    </tr>\n",
       "    <tr>\n",
       "      <th>3</th>\n",
       "      <td>88112</td>\n",
       "      <td>84.97</td>\n",
       "    </tr>\n",
       "  </tbody>\n",
       "</table>\n",
       "</div>"
      ],
      "text/plain": [
       "  Order Number   Total\n",
       "0        34587  163.80\n",
       "1        98762  284.00\n",
       "2        77226  108.85\n",
       "3        88112   84.97"
      ]
     },
     "execution_count": 5,
     "metadata": {},
     "output_type": "execute_result"
    }
   ],
   "source": [
    "# Código de solución estudiante 1\n",
    "import pandas as pd\n",
    "# Datos del problema 3\n",
    "df_orders = pd.DataFrame(orders1, columns=('Order Number', 'Book Title and Author', 'Quantity','Price per Item'))\n",
    "# Solución\n",
    "sol3_df1 = pd.DataFrame({\n",
    "    'Order Number' : df_orders['Order Number'],\n",
    "    'Total' : df_orders['Quantity'] * df_orders['Price per Item']\n",
    "})\n",
    "sol3_df1['Total'] = sol3_df1['Total'].where(sol3_df1['Total']>100, sol3_df1['Total']+10)   \n",
    "sol3_df1"
   ]
  },
  {
   "cell_type": "markdown",
   "metadata": {},
   "source": [
    "Código de solución estudiante 2"
   ]
  },
  {
   "cell_type": "code",
   "execution_count": 6,
   "metadata": {},
   "outputs": [
    {
     "data": {
      "text/html": [
       "<div>\n",
       "<style scoped>\n",
       "    .dataframe tbody tr th:only-of-type {\n",
       "        vertical-align: middle;\n",
       "    }\n",
       "\n",
       "    .dataframe tbody tr th {\n",
       "        vertical-align: top;\n",
       "    }\n",
       "\n",
       "    .dataframe thead th {\n",
       "        text-align: right;\n",
       "    }\n",
       "</style>\n",
       "<table border=\"1\" class=\"dataframe\">\n",
       "  <thead>\n",
       "    <tr style=\"text-align: right;\">\n",
       "      <th></th>\n",
       "      <th>Order Number</th>\n",
       "      <th>Total</th>\n",
       "    </tr>\n",
       "  </thead>\n",
       "  <tbody>\n",
       "    <tr>\n",
       "      <th>0</th>\n",
       "      <td>34587</td>\n",
       "      <td>163.80</td>\n",
       "    </tr>\n",
       "    <tr>\n",
       "      <th>1</th>\n",
       "      <td>98762</td>\n",
       "      <td>284.00</td>\n",
       "    </tr>\n",
       "    <tr>\n",
       "      <th>2</th>\n",
       "      <td>77226</td>\n",
       "      <td>108.85</td>\n",
       "    </tr>\n",
       "    <tr>\n",
       "      <th>3</th>\n",
       "      <td>88112</td>\n",
       "      <td>84.97</td>\n",
       "    </tr>\n",
       "  </tbody>\n",
       "</table>\n",
       "</div>"
      ],
      "text/plain": [
       "  Order Number   Total\n",
       "0        34587  163.80\n",
       "1        98762  284.00\n",
       "2        77226  108.85\n",
       "3        88112   84.97"
      ]
     },
     "execution_count": 6,
     "metadata": {},
     "output_type": "execute_result"
    }
   ],
   "source": [
    "# Código de solución estudiante 2\n",
    "orders_2 = pd.DataFrame(orders1, columns=(\"Order Number\", \"Book Title and Author\", \"Quantity\",\"Price per Item\"))\n",
    "\n",
    "orders_2[\"Total\"] = (orders_2[\"Quantity\"]*orders_2[\"Price per Item\"])\n",
    "orders_2['Total'] = orders_2['Total'].where(orders_2['Total']>100, orders_2['Total']+10)   \n",
    "orders_2.drop(columns=[\"Book Title and Author\", \"Quantity\",\"Price per Item\"])"
   ]
  },
  {
   "cell_type": "markdown",
   "metadata": {},
   "source": [
    "### Ejercicio 4\n",
    "4. Use filter to eliminate all words that are shorter than 4 letters from a list of words\n",
    "`list='the notion of a lambda function goes all the way back to the origin of computer science'`"
   ]
  },
  {
   "cell_type": "markdown",
   "metadata": {},
   "source": [
    "Código de solución estudiante 1"
   ]
  },
  {
   "cell_type": "code",
   "execution_count": 7,
   "metadata": {},
   "outputs": [
    {
     "data": {
      "text/plain": [
       "['notion',\n",
       " 'lambda',\n",
       " 'function',\n",
       " 'goes',\n",
       " 'back',\n",
       " 'origin',\n",
       " 'computer',\n",
       " 'science']"
      ]
     },
     "execution_count": 7,
     "metadata": {},
     "output_type": "execute_result"
    }
   ],
   "source": [
    "# Código de solución estudiante 1\n",
    "# Datos del problema 4\n",
    "lista4 = 'the notion of a lambda function goes all the way back to the origin of computer science'\n",
    "\n",
    "# Solución\n",
    "sol4 = list(filter(lambda lista: len(lista)>=4, lista4.split()))\n",
    "sol4"
   ]
  },
  {
   "cell_type": "markdown",
   "metadata": {},
   "source": [
    "Código de solución estudiante 2"
   ]
  },
  {
   "cell_type": "code",
   "execution_count": 8,
   "metadata": {},
   "outputs": [
    {
     "data": {
      "text/plain": [
       "['notion',\n",
       " 'lambda',\n",
       " 'function',\n",
       " 'goes',\n",
       " 'back',\n",
       " 'origin',\n",
       " 'computer',\n",
       " 'science']"
      ]
     },
     "execution_count": 8,
     "metadata": {},
     "output_type": "execute_result"
    }
   ],
   "source": [
    "# Código de solución estudiante 2\n",
    "text='the notion of a lambda function goes all the way back to the origin of computer science'\n",
    "list(filter(lambda x: len(x) >= 4 ,text.split()))"
   ]
  },
  {
   "cell_type": "markdown",
   "metadata": {},
   "source": [
    "### Ejercicio 5\n",
    "5. Use filter to determine the percentage of Fahrenheit temperatures in a list are within the range 32 to 80"
   ]
  },
  {
   "cell_type": "markdown",
   "metadata": {},
   "source": [
    "Código de solución estudiante 1"
   ]
  },
  {
   "cell_type": "code",
   "execution_count": 9,
   "metadata": {},
   "outputs": [
    {
     "data": {
      "text/plain": [
       "[35.97387961379455,\n",
       " 63.211195349983264,\n",
       " 73.90387696517755,\n",
       " 36.982512376595906,\n",
       " 68.75395211338406,\n",
       " 45.86132066984196,\n",
       " 36.58307493022292,\n",
       " 56.322083650154724,\n",
       " 33.9621930206693,\n",
       " 45.29071317816652,\n",
       " 74.86289938282341,\n",
       " 66.51091382521807,\n",
       " 46.831316244170544,\n",
       " 44.55796498523391]"
      ]
     },
     "execution_count": 9,
     "metadata": {},
     "output_type": "execute_result"
    }
   ],
   "source": [
    "# Código de solución estudiante 1\n",
    "# Datos del problema 5\n",
    "import numpy as np\n",
    "np.random.seed(55555)\n",
    "temperatures = np.random.uniform(25,110,30)\n",
    "\n",
    "# Solución\n",
    "sol5 = list(filter(lambda x: (x>32) & (x<80),temperatures))\n",
    "sol5"
   ]
  },
  {
   "cell_type": "markdown",
   "metadata": {},
   "source": [
    "Código de solución estudiante 2"
   ]
  },
  {
   "cell_type": "code",
   "execution_count": 15,
   "metadata": {},
   "outputs": [
    {
     "name": "stdout",
     "output_type": "stream",
     "text": [
      "el porcentaje de numeros que se encuentran entre 32 a 80 grados fahrenheit dentro de la lista temperatures es: 46.666666666666664 %\n"
     ]
    },
    {
     "data": {
      "text/plain": [
       "(None,\n",
       " [35.97387961379455,\n",
       "  63.211195349983264,\n",
       "  73.90387696517755,\n",
       "  36.982512376595906,\n",
       "  68.75395211338406,\n",
       "  45.86132066984196,\n",
       "  36.58307493022292,\n",
       "  56.322083650154724,\n",
       "  33.9621930206693,\n",
       "  45.29071317816652,\n",
       "  74.86289938282341,\n",
       "  66.51091382521807,\n",
       "  46.831316244170544,\n",
       "  44.55796498523391])"
      ]
     },
     "execution_count": 15,
     "metadata": {},
     "output_type": "execute_result"
    }
   ],
   "source": [
    "# Código de solución estudiante 2\n",
    "np.random.seed(55555)\n",
    "temperatures = np.random.uniform(25,110,30)\n",
    "\n",
    "x = list(filter(lambda x: x>32 and x<80,temperatures))\n",
    "print(\"el porcentaje de numeros que se encuentran entre 32 a 80 grados fahrenheit dentro de la lista temperatures es:\", len(x)*100/len(temperatures),\"%\"), x"
   ]
  },
  {
   "cell_type": "markdown",
   "metadata": {},
   "source": [
    "### Ejercicio 6\n",
    "6. Use reduce to find the lower left corner (minimum x and minimum y value) for a list of point locations\n",
    "> **Hint**: Explore the command `np.minimum.reduce` [link](https://docs.scipy.org/doc/numpy/reference/generated/numpy.ufunc.reduce.html)"
   ]
  },
  {
   "cell_type": "markdown",
   "metadata": {},
   "source": [
    "Código de solución estudiante 1"
   ]
  },
  {
   "cell_type": "code",
   "execution_count": 11,
   "metadata": {},
   "outputs": [
    {
     "data": {
      "text/plain": [
       "array([0, 2])"
      ]
     },
     "execution_count": 11,
     "metadata": {},
     "output_type": "execute_result"
    }
   ],
   "source": [
    "# Código de solución estudiante 1\n",
    "# Datos del problema 6\n",
    "np.random.seed(55555)\n",
    "point_xy = np.random.randint(0,100,[30,2])\n",
    "\n",
    "# Solución\n",
    "sol6 = np.minimum.reduce(point_xy)\n",
    "sol6"
   ]
  },
  {
   "cell_type": "markdown",
   "metadata": {},
   "source": [
    "Código de solución estudiante 2"
   ]
  },
  {
   "cell_type": "code",
   "execution_count": 12,
   "metadata": {},
   "outputs": [
    {
     "data": {
      "text/plain": [
       "array([0, 2])"
      ]
     },
     "execution_count": 12,
     "metadata": {},
     "output_type": "execute_result"
    }
   ],
   "source": [
    "# Código de solución estudiante 2\n",
    "np.random.seed(55555)\n",
    "xy = np.random.randint(0,100,[30,2])\n",
    "\n",
    "minn = np.minimum.reduce(xy)\n",
    "minn"
   ]
  },
  {
   "cell_type": "markdown",
   "metadata": {},
   "source": [
    "### Respuesta planteada en el ejercicio usando (markdown)\n",
    " La respuesta es:\n",
    " \n",
    " Para el primer ejercicio \n",
    " ``` python\n",
    " solucion_1 : \n",
    "        orders = [ [\"34587\", \"Learning Python, Mark Lutz\", 4, 40.95], \n",
    "           [\"98762\", \"Programming Python, Mark Lutz\", 5, 56.80], \n",
    "           [\"77226\", \"Head First Python, Paul Barry\", 3,32.95],\n",
    "           [\"88112\", \"Einführung in Python3, Bernd Klein\", 3, 24.99]]\n",
    "        ans1 = list(map(lambda x:[x[0],x[2]*x[3] if x[2]*x[3]>100 else x[2]*x[3]+10], orders))\n",
    "        ans1\n",
    " ``` \n",
    " Para el segundo ejercicio\n",
    "  ``` python\n",
    " solucion_2 : \n",
    "        from functools import reduce\n",
    "        orders2 = [[1, (\"5464\", 4, 9.99), (\"8274\",18,12.99), (\"9744\", 9, 44.95)], \n",
    "                  [2, (\"5464\", 9, 9.99), (\"9744\", 9, 44.95)],\n",
    "                  [3, (\"5464\", 9, 9.99), (\"88112\", 11, 24.99)],\n",
    "                  [4, (\"8732\", 7, 11.99), (\"7733\",11,18.99), (\"88112\", 5, 39.95)] ]\n",
    "\n",
    "        # Solución\n",
    "        valor = lambda x:  x[-1]*x[-2] if x[-1]*x[-2] > 100 else x[-1]*x[-2]+10\n",
    "        mult = lambda x,y: x*y\n",
    "        r = [[valor(orders2[i][j]) for j in range(1,len(orders2[i]))] for i in range(len(orders2))]\n",
    "        res = [(orders2[i][0],reduce(mult,r[i]))for i in range(len(orders2))]\n",
    "        res\n",
    " ```\n",
    " Para el tercer ejercicio\n",
    "  ``` python\n",
    " solucion_3 : \n",
    "        orders_2 = pd.DataFrame(orders1, columns=(\"Order Number\", \"Book Title and Author\", \"Quantity\",\"Price per Item\"))\n",
    "        orders_2[\"Total\"] = (orders_2[\"Quantity\"]*orders_2[\"Price per Item\"])\n",
    "        orders_2['Total'] = orders_2['Total'].where(orders_2['Total']>100, orders_2['Total']+10)   \n",
    "        orders_2.drop(columns=[\"Book Title and Author\", \"Quantity\",\"Price per Item\"])\n",
    " ```\n",
    " Para el cuarto ejercicio\n",
    "  ``` python\n",
    " solucion_4 : \n",
    "        text='the notion of a lambda function goes all the way back to the origin of computer science'\n",
    "        list(filter(lambda x: len(x) >= 4 ,text.split()))\n",
    " ```\n",
    " Para el quinto ejercicio\n",
    "  ``` python\n",
    " solucion_5 : \n",
    "        import numpy as np\n",
    "        np.random.seed(55555)\n",
    "        temperatures = np.random.uniform(25,110,30)\n",
    "        sol5 = list(filter(lambda x: (x>32) & (x<80),temperatures))\n",
    "        sol5\n",
    " ```\n",
    " Para el sexto ejercicio\n",
    "  ``` python\n",
    " solucion_6 : \n",
    "        np.random.seed(55555)\n",
    "        xy = np.random.randint(0,100,[30,2])\n",
    "        minn = np.minimum.reduce(xy)\n",
    "        minn\n",
    " ```"
   ]
  }
 ],
 "metadata": {
  "kernelspec": {
   "display_name": "Python 3 (ipykernel)",
   "language": "python",
   "name": "python3"
  },
  "language_info": {
   "codemirror_mode": {
    "name": "ipython",
    "version": 3
   },
   "file_extension": ".py",
   "mimetype": "text/x-python",
   "name": "python",
   "nbconvert_exporter": "python",
   "pygments_lexer": "ipython3",
   "version": "3.9.12"
  }
 },
 "nbformat": 4,
 "nbformat_minor": 2
}
